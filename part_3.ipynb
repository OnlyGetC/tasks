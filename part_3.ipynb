{
 "cells": [
  {
   "cell_type": "code",
   "execution_count": null,
   "id": "e928cee9",
   "metadata": {},
   "outputs": [],
   "source": [
    "import pandas as pd\n",
    "from statistics import mean\n",
    "\n",
    "df = pd.read_csv(\"tips.csv\")\n",
    "\n",
    "le_masque = df[\"sex\"] == \"Male\"\n",
    "le_masque = le_masque & (df[\"day\"] == \"Fri\")\n",
    "le_masque &= df[\"smoker\"] == \"Yes\"\n",
    "le_masque &= df[\"time\"] == \"Lunch\"\n",
    "le_masque &= df[\"total_bill\"]\n",
    "df[le_masque].head().mean()"
   ]
  },
  {
   "cell_type": "code",
   "execution_count": null,
   "id": "9528d5b4",
   "metadata": {},
   "outputs": [],
   "source": [
    "import pandas as pd\n",
    "\n",
    "df = pd.read_csv(\"iris.csv\")\n",
    "df.head()\n",
    "df.var()"
   ]
  },
  {
   "cell_type": "code",
   "execution_count": null,
   "id": "0581e8c7",
   "metadata": {},
   "outputs": [],
   "source": [
    "import pandas as pd\n",
    "df = pd.DataFrame({\n",
    "     'country': ['Kazakhstan', 'Russia', 'Belarus', 'Ukraine'],\n",
    "     'population': [17.04, 143.5, 9.5, 45.5],\n",
    "     'square': [2724902, 17125191, 207600, 603628]\n",
    " })\n",
    "df = df.assign(density=df.square/df.population)\n",
    "df\n",
    "df.rename(columns={'country': 'страна'}, inplace = True)\n",
    "df.rename(columns={'square': 'площадь'}, inplace = True)\n",
    "df"
   ]
  }
 ],
 "metadata": {
  "kernelspec": {
   "display_name": "Python 3 (ipykernel)",
   "language": "python",
   "name": "python3"
  },
  "language_info": {
   "codemirror_mode": {
    "name": "ipython",
    "version": 3
   },
   "file_extension": ".py",
   "mimetype": "text/x-python",
   "name": "python",
   "nbconvert_exporter": "python",
   "pygments_lexer": "ipython3",
   "version": "3.8.10"
  }
 },
 "nbformat": 4,
 "nbformat_minor": 5
}
